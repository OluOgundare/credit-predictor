{
 "cells": [
  {
   "cell_type": "markdown",
   "id": "45f56482",
   "metadata": {},
   "source": [
    "# Credit Standing"
   ]
  },
  {
   "cell_type": "markdown",
   "id": "2a527815",
   "metadata": {},
   "source": [
    "# INFO 1998 Final Project\n"
   ]
  },
  {
   "cell_type": "markdown",
   "id": "6d0106a0",
   "metadata": {},
   "source": [
    "Mike Zheng (MZ524) and Olu Ogundare (odo5)"
   ]
  },
  {
   "cell_type": "markdown",
   "id": "d2de6d7e",
   "metadata": {},
   "source": [
    "This project performs an explorative data and predictive analysis on a dataset on individual's credit score \n",
    "standings vs their financial behaviors and other financial factors.\n",
    "\n",
    "We want to answer the following questions\n",
    "1. What features can we use to predict the outstanding debt of a person? (Regression)\n",
    "2. Given certain features, can we predict the a person's credit standing? (Classification)\n",
    "\n",
    "The approach is outlined as follows:\n",
    "1. Preprocessing and cleaning the dataset\n",
    "2. Data Visualization\n",
    "3. Machine Learning Models\n",
    "4. Conclusion"
   ]
  },
  {
   "cell_type": "code",
   "execution_count": 242,
   "id": "5d34d99c",
   "metadata": {},
   "outputs": [],
   "source": [
    "#Import Necessary Packages\n",
    "import pandas as pd\n",
    "import numpy as np\n",
    "import matplotlib.pyplot as plt\n",
    "import seaborn as sb\n",
    "from sklearn.linear_model import LinearRegression\n",
    "from sklearn.model_selection import train_test_split\n",
    "from sklearn.metrics import mean_squared_error\n",
    "from sklearn.preprocessing import LabelEncoder\n",
    "from sklearn.metrics import accuracy_score\n",
    "from sklearn.tree import DecisionTreeClassifier\n",
    "from sklearn.neighbors import KNeighborsClassifier\n",
    "from sklearn.linear_model import LogisticRegression\n",
    "from sklearn import tree\n",
    "from sklearn import datasets\n"
   ]
  },
  {
   "cell_type": "markdown",
   "id": "6ce45499",
   "metadata": {},
   "source": [
    "# Step 1: Obtaining and organizing data"
   ]
  },
  {
   "cell_type": "code",
   "execution_count": 243,
   "metadata": {},
   "outputs": [
    {
     "data": {
      "text/html": [
       "<div>\n",
       "<style scoped>\n",
       "    .dataframe tbody tr th:only-of-type {\n",
       "        vertical-align: middle;\n",
       "    }\n",
       "\n",
       "    .dataframe tbody tr th {\n",
       "        vertical-align: top;\n",
       "    }\n",
       "\n",
       "    .dataframe thead th {\n",
       "        text-align: right;\n",
       "    }\n",
       "</style>\n",
       "<table border=\"1\" class=\"dataframe\">\n",
       "  <thead>\n",
       "    <tr style=\"text-align: right;\">\n",
       "      <th></th>\n",
       "      <th>Age</th>\n",
       "      <th>Annual_Income</th>\n",
       "      <th>Monthly_Inhand_Salary</th>\n",
       "      <th>Num_Bank_Accounts</th>\n",
       "      <th>Num_Credit_Card</th>\n",
       "      <th>Interest_Rate</th>\n",
       "      <th>Num_of_Loan</th>\n",
       "      <th>Delay_from_due_date</th>\n",
       "      <th>Num_of_Delayed_Payment</th>\n",
       "      <th>Changed_Credit_Limit</th>\n",
       "      <th>Num_Credit_Inquiries</th>\n",
       "      <th>Credit_Mix</th>\n",
       "      <th>Outstanding_Debt</th>\n",
       "      <th>Credit_Utilization_Ratio</th>\n",
       "      <th>Credit_History_Age</th>\n",
       "      <th>Payment_of_Min_Amount</th>\n",
       "      <th>Total_EMI_per_month</th>\n",
       "      <th>Amount_invested_monthly</th>\n",
       "      <th>Payment_Behaviour</th>\n",
       "      <th>Monthly_Balance</th>\n",
       "    </tr>\n",
       "  </thead>\n",
       "  <tbody>\n",
       "    <tr>\n",
       "      <th>2567</th>\n",
       "      <td>26_</td>\n",
       "      <td>60585.08</td>\n",
       "      <td>4977.756667</td>\n",
       "      <td>8</td>\n",
       "      <td>6</td>\n",
       "      <td>2241</td>\n",
       "      <td>2</td>\n",
       "      <td>21</td>\n",
       "      <td>8</td>\n",
       "      <td>3.16</td>\n",
       "      <td>5.0</td>\n",
       "      <td>Good</td>\n",
       "      <td>461.13</td>\n",
       "      <td>24.976476</td>\n",
       "      <td>25 Years and 2 Months</td>\n",
       "      <td>No</td>\n",
       "      <td>84.260825</td>\n",
       "      <td>250.55593963813763</td>\n",
       "      <td>Low_spent_Medium_value_payments</td>\n",
       "      <td>442.9589020856568</td>\n",
       "    </tr>\n",
       "    <tr>\n",
       "      <th>38036</th>\n",
       "      <td>45</td>\n",
       "      <td>28828.86</td>\n",
       "      <td>2631.405000</td>\n",
       "      <td>7</td>\n",
       "      <td>7</td>\n",
       "      <td>19</td>\n",
       "      <td>8</td>\n",
       "      <td>23</td>\n",
       "      <td>23</td>\n",
       "      <td>12.11</td>\n",
       "      <td>11.0</td>\n",
       "      <td>Bad</td>\n",
       "      <td>2982.96</td>\n",
       "      <td>31.930851</td>\n",
       "      <td>6 Years and 7 Months</td>\n",
       "      <td>Yes</td>\n",
       "      <td>144.038689</td>\n",
       "      <td>177.96909695029282</td>\n",
       "      <td>High_spent_Small_value_payments</td>\n",
       "      <td>201.1327139808212</td>\n",
       "    </tr>\n",
       "    <tr>\n",
       "      <th>48882</th>\n",
       "      <td>36_</td>\n",
       "      <td>19879.05</td>\n",
       "      <td>1464.587500</td>\n",
       "      <td>4</td>\n",
       "      <td>4</td>\n",
       "      <td>12</td>\n",
       "      <td>0</td>\n",
       "      <td>25</td>\n",
       "      <td>12</td>\n",
       "      <td>11.03</td>\n",
       "      <td>7.0</td>\n",
       "      <td>Standard</td>\n",
       "      <td>1013.71</td>\n",
       "      <td>25.397560</td>\n",
       "      <td>19 Years and 5 Months</td>\n",
       "      <td>NM</td>\n",
       "      <td>0.000000</td>\n",
       "      <td>42.72473951233214</td>\n",
       "      <td>High_spent_Small_value_payments</td>\n",
       "      <td>363.73401048766783</td>\n",
       "    </tr>\n",
       "    <tr>\n",
       "      <th>30811</th>\n",
       "      <td>31</td>\n",
       "      <td>14432.87</td>\n",
       "      <td>1185.739167</td>\n",
       "      <td>3</td>\n",
       "      <td>7</td>\n",
       "      <td>7</td>\n",
       "      <td>-100</td>\n",
       "      <td>5</td>\n",
       "      <td>8</td>\n",
       "      <td>9.47</td>\n",
       "      <td>8.0</td>\n",
       "      <td>Good</td>\n",
       "      <td>941.79</td>\n",
       "      <td>34.441677</td>\n",
       "      <td>33 Years and 3 Months</td>\n",
       "      <td>No</td>\n",
       "      <td>6.412119</td>\n",
       "      <td>41.03600289636189</td>\n",
       "      <td>Low_spent_Medium_value_payments</td>\n",
       "      <td>351.1257947752282</td>\n",
       "    </tr>\n",
       "    <tr>\n",
       "      <th>32390</th>\n",
       "      <td>26</td>\n",
       "      <td>83210.28</td>\n",
       "      <td>NaN</td>\n",
       "      <td>4</td>\n",
       "      <td>7</td>\n",
       "      <td>17</td>\n",
       "      <td>2</td>\n",
       "      <td>8</td>\n",
       "      <td>13</td>\n",
       "      <td>12.5</td>\n",
       "      <td>8.0</td>\n",
       "      <td>_</td>\n",
       "      <td>1001.02</td>\n",
       "      <td>25.320447</td>\n",
       "      <td>NaN</td>\n",
       "      <td>Yes</td>\n",
       "      <td>122.008249</td>\n",
       "      <td>463.496516225755</td>\n",
       "      <td>Low_spent_Medium_value_payments</td>\n",
       "      <td>399.6142351996309</td>\n",
       "    </tr>\n",
       "    <tr>\n",
       "      <th>...</th>\n",
       "      <td>...</td>\n",
       "      <td>...</td>\n",
       "      <td>...</td>\n",
       "      <td>...</td>\n",
       "      <td>...</td>\n",
       "      <td>...</td>\n",
       "      <td>...</td>\n",
       "      <td>...</td>\n",
       "      <td>...</td>\n",
       "      <td>...</td>\n",
       "      <td>...</td>\n",
       "      <td>...</td>\n",
       "      <td>...</td>\n",
       "      <td>...</td>\n",
       "      <td>...</td>\n",
       "      <td>...</td>\n",
       "      <td>...</td>\n",
       "      <td>...</td>\n",
       "      <td>...</td>\n",
       "      <td>...</td>\n",
       "    </tr>\n",
       "    <tr>\n",
       "      <th>33062</th>\n",
       "      <td>22</td>\n",
       "      <td>58184.67</td>\n",
       "      <td>NaN</td>\n",
       "      <td>5</td>\n",
       "      <td>4</td>\n",
       "      <td>9</td>\n",
       "      <td>3</td>\n",
       "      <td>24</td>\n",
       "      <td>12</td>\n",
       "      <td>5.36</td>\n",
       "      <td>4.0</td>\n",
       "      <td>_</td>\n",
       "      <td>309.14</td>\n",
       "      <td>29.737159</td>\n",
       "      <td>24 Years and 5 Months</td>\n",
       "      <td>NM</td>\n",
       "      <td>320.169642</td>\n",
       "      <td>103.9789136177475</td>\n",
       "      <td>High_spent_Large_value_payments</td>\n",
       "      <td>480.7347978031143</td>\n",
       "    </tr>\n",
       "    <tr>\n",
       "      <th>24868</th>\n",
       "      <td>20</td>\n",
       "      <td>66061.04</td>\n",
       "      <td>NaN</td>\n",
       "      <td>6</td>\n",
       "      <td>5</td>\n",
       "      <td>22</td>\n",
       "      <td>3</td>\n",
       "      <td>27</td>\n",
       "      <td>22</td>\n",
       "      <td>4.92</td>\n",
       "      <td>17.0</td>\n",
       "      <td>Bad</td>\n",
       "      <td>1801.38</td>\n",
       "      <td>39.020466</td>\n",
       "      <td>12 Years and 10 Months</td>\n",
       "      <td>Yes</td>\n",
       "      <td>100.802186</td>\n",
       "      <td>76.05095224746078</td>\n",
       "      <td>High_spent_Medium_value_payments</td>\n",
       "      <td>649.3555281059023</td>\n",
       "    </tr>\n",
       "    <tr>\n",
       "      <th>26184</th>\n",
       "      <td>20</td>\n",
       "      <td>73140.38</td>\n",
       "      <td>5799.031667</td>\n",
       "      <td>3</td>\n",
       "      <td>5</td>\n",
       "      <td>15</td>\n",
       "      <td>1_</td>\n",
       "      <td>9</td>\n",
       "      <td>12</td>\n",
       "      <td>14.56</td>\n",
       "      <td>7.0</td>\n",
       "      <td>Standard</td>\n",
       "      <td>1056.32</td>\n",
       "      <td>26.856850</td>\n",
       "      <td>26 Years and 0 Months</td>\n",
       "      <td>Yes</td>\n",
       "      <td>44.981592</td>\n",
       "      <td>351.0753884729198</td>\n",
       "      <td>High_spent_Small_value_payments</td>\n",
       "      <td>443.84618587449324</td>\n",
       "    </tr>\n",
       "    <tr>\n",
       "      <th>32436</th>\n",
       "      <td>50</td>\n",
       "      <td>39491.26</td>\n",
       "      <td>3129.938333</td>\n",
       "      <td>7</td>\n",
       "      <td>5</td>\n",
       "      <td>9</td>\n",
       "      <td>0</td>\n",
       "      <td>9</td>\n",
       "      <td>14</td>\n",
       "      <td>1.1</td>\n",
       "      <td>3.0</td>\n",
       "      <td>Standard</td>\n",
       "      <td>730.89</td>\n",
       "      <td>28.566882</td>\n",
       "      <td>18 Years and 10 Months</td>\n",
       "      <td>Yes</td>\n",
       "      <td>0.000000</td>\n",
       "      <td>__10000__</td>\n",
       "      <td>High_spent_Small_value_payments</td>\n",
       "      <td>506.5980371041112</td>\n",
       "    </tr>\n",
       "    <tr>\n",
       "      <th>13795</th>\n",
       "      <td>34</td>\n",
       "      <td>86567.96</td>\n",
       "      <td>6326.657281</td>\n",
       "      <td>3</td>\n",
       "      <td>7</td>\n",
       "      <td>1</td>\n",
       "      <td>1</td>\n",
       "      <td>15</td>\n",
       "      <td>NaN</td>\n",
       "      <td>6.87</td>\n",
       "      <td>7.0</td>\n",
       "      <td>Good</td>\n",
       "      <td>921.87</td>\n",
       "      <td>39.278533</td>\n",
       "      <td>NaN</td>\n",
       "      <td>No</td>\n",
       "      <td>698.506557</td>\n",
       "      <td>665.0130775811009</td>\n",
       "      <td>Low_spent_Medium_value_payments</td>\n",
       "      <td>245.81941741621392</td>\n",
       "    </tr>\n",
       "  </tbody>\n",
       "</table>\n",
       "<p>5000 rows × 20 columns</p>\n",
       "</div>"
      ],
      "text/plain": [
       "       Age Annual_Income  Monthly_Inhand_Salary  Num_Bank_Accounts  \\\n",
       "2567   26_      60585.08            4977.756667                  8   \n",
       "38036   45      28828.86            2631.405000                  7   \n",
       "48882  36_      19879.05            1464.587500                  4   \n",
       "30811   31      14432.87            1185.739167                  3   \n",
       "32390   26      83210.28                    NaN                  4   \n",
       "...    ...           ...                    ...                ...   \n",
       "33062   22      58184.67                    NaN                  5   \n",
       "24868   20      66061.04                    NaN                  6   \n",
       "26184   20      73140.38            5799.031667                  3   \n",
       "32436   50      39491.26            3129.938333                  7   \n",
       "13795   34      86567.96            6326.657281                  3   \n",
       "\n",
       "       Num_Credit_Card  Interest_Rate Num_of_Loan  Delay_from_due_date  \\\n",
       "2567                 6           2241           2                   21   \n",
       "38036                7             19           8                   23   \n",
       "48882                4             12           0                   25   \n",
       "30811                7              7        -100                    5   \n",
       "32390                7             17           2                    8   \n",
       "...                ...            ...         ...                  ...   \n",
       "33062                4              9           3                   24   \n",
       "24868                5             22           3                   27   \n",
       "26184                5             15          1_                    9   \n",
       "32436                5              9           0                    9   \n",
       "13795                7              1           1                   15   \n",
       "\n",
       "      Num_of_Delayed_Payment Changed_Credit_Limit  Num_Credit_Inquiries  \\\n",
       "2567                       8                 3.16                   5.0   \n",
       "38036                     23                12.11                  11.0   \n",
       "48882                     12                11.03                   7.0   \n",
       "30811                      8                 9.47                   8.0   \n",
       "32390                     13                 12.5                   8.0   \n",
       "...                      ...                  ...                   ...   \n",
       "33062                     12                 5.36                   4.0   \n",
       "24868                     22                 4.92                  17.0   \n",
       "26184                     12                14.56                   7.0   \n",
       "32436                     14                  1.1                   3.0   \n",
       "13795                    NaN                 6.87                   7.0   \n",
       "\n",
       "      Credit_Mix Outstanding_Debt  Credit_Utilization_Ratio  \\\n",
       "2567        Good           461.13                 24.976476   \n",
       "38036        Bad          2982.96                 31.930851   \n",
       "48882   Standard          1013.71                 25.397560   \n",
       "30811       Good           941.79                 34.441677   \n",
       "32390          _          1001.02                 25.320447   \n",
       "...          ...              ...                       ...   \n",
       "33062          _           309.14                 29.737159   \n",
       "24868        Bad          1801.38                 39.020466   \n",
       "26184   Standard          1056.32                 26.856850   \n",
       "32436   Standard           730.89                 28.566882   \n",
       "13795       Good           921.87                 39.278533   \n",
       "\n",
       "           Credit_History_Age Payment_of_Min_Amount  Total_EMI_per_month  \\\n",
       "2567    25 Years and 2 Months                    No            84.260825   \n",
       "38036    6 Years and 7 Months                   Yes           144.038689   \n",
       "48882   19 Years and 5 Months                    NM             0.000000   \n",
       "30811   33 Years and 3 Months                    No             6.412119   \n",
       "32390                     NaN                   Yes           122.008249   \n",
       "...                       ...                   ...                  ...   \n",
       "33062   24 Years and 5 Months                    NM           320.169642   \n",
       "24868  12 Years and 10 Months                   Yes           100.802186   \n",
       "26184   26 Years and 0 Months                   Yes            44.981592   \n",
       "32436  18 Years and 10 Months                   Yes             0.000000   \n",
       "13795                     NaN                    No           698.506557   \n",
       "\n",
       "      Amount_invested_monthly                 Payment_Behaviour  \\\n",
       "2567       250.55593963813763   Low_spent_Medium_value_payments   \n",
       "38036      177.96909695029282   High_spent_Small_value_payments   \n",
       "48882       42.72473951233214   High_spent_Small_value_payments   \n",
       "30811       41.03600289636189   Low_spent_Medium_value_payments   \n",
       "32390        463.496516225755   Low_spent_Medium_value_payments   \n",
       "...                       ...                               ...   \n",
       "33062       103.9789136177475   High_spent_Large_value_payments   \n",
       "24868       76.05095224746078  High_spent_Medium_value_payments   \n",
       "26184       351.0753884729198   High_spent_Small_value_payments   \n",
       "32436               __10000__   High_spent_Small_value_payments   \n",
       "13795       665.0130775811009   Low_spent_Medium_value_payments   \n",
       "\n",
       "          Monthly_Balance  \n",
       "2567    442.9589020856568  \n",
       "38036   201.1327139808212  \n",
       "48882  363.73401048766783  \n",
       "30811   351.1257947752282  \n",
       "32390   399.6142351996309  \n",
       "...                   ...  \n",
       "33062   480.7347978031143  \n",
       "24868   649.3555281059023  \n",
       "26184  443.84618587449324  \n",
       "32436   506.5980371041112  \n",
       "13795  245.81941741621392  \n",
       "\n",
       "[5000 rows x 20 columns]"
      ]
     },
     "execution_count": 243,
     "metadata": {},
     "output_type": "execute_result"
    }
   ],
   "source": [
    "#Obtain Data\n",
    "all_data = pd.read_csv('credit_score.csv')\n",
    "\n",
    "#  Draw samples of 5000 data, since the data set contains a total amount of 50,000 values and it will take a\n",
    "#  long time to manipulate and clean up 50,000 data. So we decided to draw a sample of 5000 to be a representative\n",
    "#  data set of the overall data.\n",
    "\n",
    "samples = all_data.sample(5000)\n",
    "df = samples.drop(['ID','Customer_ID','Month','Name','SSN','Occupation', 'Type_of_Loan'], axis=1) \n",
    "df\n"
   ]
  },
  {
   "cell_type": "code",
   "execution_count": 244,
   "id": "657e030e",
   "metadata": {},
   "outputs": [],
   "source": [
    "# Since some values in the data set have '_', we couldn't convert some column dataset into\n",
    "# float type and calculate numerical values like mean and standard deviation.\n",
    "# To fix this issue, we have to reorganize the data set. We strip '_' from all \n",
    "# the data in the dataframe, and then convert them into float type. \n",
    "\n",
    "df['Amount_invested_monthly']= df['Amount_invested_monthly'].str.strip('_')\n",
    "df['Amount_invested_monthly']= df['Amount_invested_monthly'].astype(float)\n",
    "df['Outstanding_Debt'] = df['Outstanding_Debt'].str.strip('_')\n",
    "df['Outstanding_Debt'] = df['Outstanding_Debt'].astype(float)\n",
    "df['Annual_Income']= df['Annual_Income'].str.strip('_')\n",
    "df['Annual_Income']= df['Annual_Income'].astype(float)\n",
    "df['Num_of_Loan']= df['Num_of_Loan'].str.strip('_')\n",
    "df['Num_of_Loan']= df['Num_of_Loan'].astype(float)\n",
    "df['Monthly_Balance']= df['Monthly_Balance'].str.strip('_')\n",
    "df['Monthly_Balance']= df['Monthly_Balance'].astype(float)"
   ]
  },
  {
   "cell_type": "code",
   "execution_count": 245,
   "id": "43c80a90",
   "metadata": {},
   "outputs": [
    {
     "name": "stderr",
     "output_type": "stream",
     "text": [
      "/var/folders/hw/yz8srx752xl20r4h2d4yxnn00000gn/T/ipykernel_1069/2939523657.py:10: SettingWithCopyWarning: \n",
      "A value is trying to be set on a copy of a slice from a DataFrame\n",
      "\n",
      "See the caveats in the documentation: https://pandas.pydata.org/pandas-docs/stable/user_guide/indexing.html#returning-a-view-versus-a-copy\n",
      "  df['Credits'][indices[x]] = 1\n",
      "/var/folders/hw/yz8srx752xl20r4h2d4yxnn00000gn/T/ipykernel_1069/2939523657.py:14: SettingWithCopyWarning: \n",
      "A value is trying to be set on a copy of a slice from a DataFrame\n",
      "\n",
      "See the caveats in the documentation: https://pandas.pydata.org/pandas-docs/stable/user_guide/indexing.html#returning-a-view-versus-a-copy\n",
      "  df['Credits'][indices[x]] = -1\n",
      "/var/folders/hw/yz8srx752xl20r4h2d4yxnn00000gn/T/ipykernel_1069/2939523657.py:12: SettingWithCopyWarning: \n",
      "A value is trying to be set on a copy of a slice from a DataFrame\n",
      "\n",
      "See the caveats in the documentation: https://pandas.pydata.org/pandas-docs/stable/user_guide/indexing.html#returning-a-view-versus-a-copy\n",
      "  df['Credits'][indices[x]] = 0\n"
     ]
    }
   ],
   "source": [
    "# We now create a new numerical data frame, where Good Credit -> 1, \n",
    "# Standard Credit -> 0, and Bad Credit -> -1 to help us calculate \n",
    "# numerical values like linear regressions and such.\n",
    "\n",
    "indices = df.index\n",
    "\n",
    "df['Credits'] = 0\n",
    "for x in range(len(df)):\n",
    "    if df['Credit_Mix'][indices[x]] == 'Good':\n",
    "        df['Credits'][indices[x]] = 1\n",
    "    elif df['Credit_Mix'][indices[x]] == 'Standard':\n",
    "        df['Credits'][indices[x]] = 0\n",
    "    elif df['Credit_Mix'][indices[x]] == 'Bad':\n",
    "        df['Credits'][indices[x]] = -1"
   ]
  },
  {
   "cell_type": "code",
   "execution_count": 260,
   "id": "763d8125",
   "metadata": {},
   "outputs": [
    {
     "name": "stderr",
     "output_type": "stream",
     "text": [
      "/var/folders/hw/yz8srx752xl20r4h2d4yxnn00000gn/T/ipykernel_1069/2723100923.py:5: SettingWithCopyWarning: \n",
      "A value is trying to be set on a copy of a slice from a DataFrame.\n",
      "Try using .loc[row_indexer,col_indexer] = value instead\n",
      "\n",
      "See the caveats in the documentation: https://pandas.pydata.org/pandas-docs/stable/user_guide/indexing.html#returning-a-view-versus-a-copy\n",
      "  bad_credits['Monthly_Inhand_Salary']=bad_credits['Monthly_Inhand_Salary'].fillna(bad_credits['Monthly_Inhand_Salary'].mean())\n",
      "/var/folders/hw/yz8srx752xl20r4h2d4yxnn00000gn/T/ipykernel_1069/2723100923.py:7: SettingWithCopyWarning: \n",
      "A value is trying to be set on a copy of a slice from a DataFrame.\n",
      "Try using .loc[row_indexer,col_indexer] = value instead\n",
      "\n",
      "See the caveats in the documentation: https://pandas.pydata.org/pandas-docs/stable/user_guide/indexing.html#returning-a-view-versus-a-copy\n",
      "  good_credits['Monthly_Inhand_Salary']=good_credits['Monthly_Inhand_Salary'].fillna(good_credits['Monthly_Inhand_Salary'].mean())\n",
      "/var/folders/hw/yz8srx752xl20r4h2d4yxnn00000gn/T/ipykernel_1069/2723100923.py:9: SettingWithCopyWarning: \n",
      "A value is trying to be set on a copy of a slice from a DataFrame.\n",
      "Try using .loc[row_indexer,col_indexer] = value instead\n",
      "\n",
      "See the caveats in the documentation: https://pandas.pydata.org/pandas-docs/stable/user_guide/indexing.html#returning-a-view-versus-a-copy\n",
      "  standard_credits['Monthly_Inhand_Salary']=standard_credits['Monthly_Inhand_Salary'].fillna(standard_credits['Monthly_Inhand_Salary'].mean())\n"
     ]
    }
   ],
   "source": [
    "# Split and reorganize entire data frames to 3 catagories based on their credit standings.\n",
    "# This will help us visualize differences of each credit standing.\n",
    "\n",
    "bad_credits = df[df['Credit_Mix'] == 'Bad']\n",
    "bad_credits['Monthly_Inhand_Salary']=bad_credits['Monthly_Inhand_Salary'].fillna(bad_credits['Monthly_Inhand_Salary'].mean())\n",
    "good_credits = df[df['Credit_Mix'] == 'Good']\n",
    "good_credits['Monthly_Inhand_Salary']=good_credits['Monthly_Inhand_Salary'].fillna(good_credits['Monthly_Inhand_Salary'].mean())\n",
    "standard_credits = df[df['Credit_Mix'] == 'Standard']\n",
    "standard_credits['Monthly_Inhand_Salary']=standard_credits['Monthly_Inhand_Salary'].fillna(standard_credits['Monthly_Inhand_Salary'].mean())\n",
    "\n"
   ]
  },
  {
   "cell_type": "code",
   "execution_count": 247,
   "id": "9e63c357",
   "metadata": {},
   "outputs": [
    {
     "name": "stdout",
     "output_type": "stream",
     "text": [
      "1418.3701599999984\n",
      "3032.6119509594905\n",
      "1061.6803094984007\n",
      "741.7360893854749\n"
     ]
    }
   ],
   "source": [
    "print(df['Outstanding_Debt'].mean())\n",
    "print(bad_credits['Outstanding_Debt'].mean())\n",
    "print(standard_credits['Outstanding_Debt'].mean())\n",
    "print(good_credits['Outstanding_Debt'].mean())"
   ]
  },
  {
   "cell_type": "markdown",
   "id": "0ef57e1d",
   "metadata": {},
   "source": [
    "# Step 2: Visualize Data"
   ]
  },
  {
   "cell_type": "code",
   "execution_count": 318,
   "metadata": {},
   "outputs": [
    {
     "data": {
      "image/png": "[encoded data removed]",
      "text/plain": [
       "<Figure size 720x720 with 2 Axes>"
      ]
     },
     "metadata": {
      "needs_background": "light"
     },
     "output_type": "display_data"
    }
   ],
   "source": [
    "##Create a correlation matrix which allows us to see what data may be useful for predicting an individual's credit score\n",
    "\n",
    "corr = df.corr()\n",
    "fig = plt.figure() \n",
    "ax = fig.add_subplot(111) \n",
    "fig.colorbar(ax.matshow(corr, cmap='winter_r', vmin=-0.5, vmax=0.5)) \n",
    "ax.set_xticks(range(len(corr.columns)))\n",
    "ax.set_xticklabels(corr.columns) \n",
    "ax.set_xticks(range(len(corr.columns))) \n",
    "ax.set_xticklabels(corr.columns) \n",
    "for t in ax.get_xticklabels(): \n",
    "        t.set_rotation(45)\n",
    "ax.set_yticks(range(len(corr.columns))) \n",
    "ax.set_yticklabels(corr.columns) \n",
    "fig.set_figheight(10)\n",
    "fig.set_figwidth(10)\n",
    "\n",
    "plt.show()\n"
   ]
  },
  {
   "cell_type": "code",
   "execution_count": 319,
   "id": "85b3c979",
   "metadata": {},
   "outputs": [
    {
     "data": {
      "image/png": "[encoded data removed]",
      "text/plain": [
       "<Figure size 432x288 with 2 Axes>"
      ]
     },
     "metadata": {
      "needs_background": "light"
     },
     "output_type": "display_data"
    }
   ],
   "source": [
    "##Correlation matrix using a different method which has values in the boxes\n",
    "\n",
    "corr = df.corr()\n",
    "sb.heatmap(corr.round(3), annot=True, annot_kws={\"size\":6})\n",
    "\n",
    "plt.show()\n"
   ]
  },
  {
   "cell_type": "markdown",
   "id": "6d142971",
   "metadata": {},
   "source": [
    "Average Late Payments vs Credits"
   ]
  },
  {
   "cell_type": "code",
   "execution_count": 308,
   "id": "23313f68",
   "metadata": {},
   "outputs": [
    {
     "data": {
      "image/png": "[encoded data removed]",
      "text/plain": [
       "<Figure size 432x288 with 1 Axes>"
      ]
     },
     "metadata": {
      "needs_background": "light"
     },
     "output_type": "display_data"
    }
   ],
   "source": [
    "bar1 = (bad_credits['Delay_from_due_date']).mean()\n",
    "bar2 = (standard_credits['Delay_from_due_date']).mean()\n",
    "bar3 = (good_credits['Delay_from_due_date']).mean()\n",
    "\n",
    "# Adding the two bars and assigning attributes\n",
    "plt.bar([0,1,2],[bar1,bar2, bar3],align='center')\n",
    "\n",
    "# Add a suitable title\n",
    "plt.title('Delay of days from due date vs credits')\n",
    "\n",
    "# Adding suitable labels to the axes\n",
    "plt.xticks([0,1,2],['Bad Credits','Standard Credits', 'Good Credits'])\n",
    "plt.ylabel('Delay of days from due date')\n",
    "\n",
    "plt.show()"
   ]
  },
  {
   "cell_type": "markdown",
   "id": "ac83ae78",
   "metadata": {},
   "source": [
    "From this bar graph visualization, we see that bad credits has the highest number of late payments, followed by standard credits, and good credits.\n"
   ]
  },
  {
   "cell_type": "markdown",
   "id": "d114ca60",
   "metadata": {},
   "source": [
    "Outstand Debts vs Credits"
   ]
  },
  {
   "cell_type": "code",
   "execution_count": 250,
   "id": "e8e9024c",
   "metadata": {},
   "outputs": [
    {
     "data": {
      "image/png": "[encoded data removed]",
      "text/plain": [
       "<Figure size 432x288 with 1 Axes>"
      ]
     },
     "metadata": {
      "needs_background": "light"
     },
     "output_type": "display_data"
    }
   ],
   "source": [
    "bar1 = (bad_credits['Outstanding_Debt']).mean()\n",
    "bar2 = (standard_credits['Outstanding_Debt']).mean()\n",
    "bar3 = (good_credits['Outstanding_Debt']).mean()\n",
    "\n",
    "# Adding the two bars and assigning attributes\n",
    "plt.bar([0,1,2],[bar1,bar2, bar3],align='center')\n",
    "\n",
    "# Add a suitable title\n",
    "plt.title('Outstanding Debt vs credits')\n",
    "\n",
    "# Adding suitable labels to the axes\n",
    "plt.xticks([0,1,2],['Bad Credits','Standard Credits', 'Good Credits'])\n",
    "plt.ylabel('Outstanding_Debt')\n",
    "\n",
    "plt.show()"
   ]
  },
  {
   "cell_type": "markdown",
   "id": "4fe9687a",
   "metadata": {},
   "source": [
    "From this bar graph visualization, we see that bad credits has the highest outstanding debts, followed by standard credits, and good credits.\n"
   ]
  },
  {
   "cell_type": "markdown",
   "id": "5a69d635",
   "metadata": {},
   "source": [
    "Monthly Inhand Salary vs Credits"
   ]
  },
  {
   "cell_type": "code",
   "execution_count": 251,
   "id": "27adfc57",
   "metadata": {},
   "outputs": [
    {
     "data": {
      "image/png": "[encoded data removed]",
      "text/plain": [
       "<Figure size 432x288 with 1 Axes>"
      ]
     },
     "metadata": {
      "needs_background": "light"
     },
     "output_type": "display_data"
    }
   ],
   "source": [
    "bar1 = (bad_credits['Monthly_Inhand_Salary']).mean()\n",
    "bar2 = (standard_credits['Monthly_Inhand_Salary']).mean()\n",
    "bar3 = (good_credits['Monthly_Inhand_Salary']).mean()\n",
    "\n",
    "# Adding the two bars and assigning attributes\n",
    "plt.bar([0,1,2],[bar1,bar2, bar3],align='center')\n",
    "\n",
    "# Add a suitable title\n",
    "plt.title('Monthly Inhand Salary vs credits')\n",
    "\n",
    "# Adding suitable labels to the axes\n",
    "plt.xticks([0,1,2],['Bad Credits','Standard Credits', 'Good Credits'])\n",
    "plt.ylabel('Monthly Inhand Salary ($)')\n",
    "\n",
    "plt.show()"
   ]
  },
  {
   "cell_type": "markdown",
   "metadata": {},
   "source": [
    "From this bar graph visualization, we see that Good Credits has the highest Monthly Inhand Salary, followed by standard credits, and bad credits."
   ]
  },
  {
   "cell_type": "markdown",
   "id": "0b5b2345",
   "metadata": {},
   "source": [
    "Interest rate vs Late Payment of different credits"
   ]
  },
  {
   "cell_type": "code",
   "execution_count": 309,
   "id": "1d6faeee",
   "metadata": {},
   "outputs": [
    {
     "data": {
      "image/png": "[encoded data removed]",
      "text/plain": [
       "<Figure size 432x288 with 1 Axes>"
      ]
     },
     "metadata": {
      "needs_background": "light"
     },
     "output_type": "display_data"
    }
   ],
   "source": [
    "xaxis1 = bad_credits['Interest_Rate']\n",
    "xaxis2 = standard_credits['Interest_Rate']\n",
    "xaxis3 = good_credits['Interest_Rate']\n",
    "yaxis1 = bad_credits['Delay_from_due_date']\n",
    "yaxis2 = standard_credits['Delay_from_due_date']\n",
    "yaxis3 = good_credits['Delay_from_due_date']\n",
    "\n",
    "plt.scatter(xaxis1, yaxis1, c=\"red\", label = \"Bad Credits\")\n",
    "plt.scatter(xaxis2, yaxis2, c=\"green\", label = \"Standard Credits\")\n",
    "plt.scatter(xaxis3, yaxis3, c=\"blue\", label = \"Good Credits\")\n",
    "plt.title('interest rate vs delay of late payment')\n",
    "plt.xlabel('interest rate (%)')\n",
    "plt.ylabel('delay of late payment')\n",
    "plt.legend()\n",
    "\n",
    "plt.show()\n"
   ]
  },
  {
   "cell_type": "markdown",
   "metadata": {},
   "source": [
    "From this scatter plot visualization of interest rate vs number of days payments are delayed of different credit standings, we see that while many individuals across different credit standings have 0 interest rate, individuals with bad credits scores tend to have more days that are delayed from their due date, followed by individuals with standard credits and good credits as we see more blue populations on the bottom half, green in the middle and red correspondants on the top. "
   ]
  },
  {
   "cell_type": "markdown",
   "id": "626551cb",
   "metadata": {},
   "source": [
    "# Step 3: Machine Learning Models"
   ]
  },
  {
   "cell_type": "markdown",
   "id": "fcee32e0",
   "metadata": {},
   "source": [
    "Classifcation Model\n",
    "\n",
    "Delay Payment and Outstanding Debt to classify Credit Standing"
   ]
  },
  {
   "cell_type": "code",
   "execution_count": 320,
   "id": "03a3c5f2",
   "metadata": {},
   "outputs": [
    {
     "name": "stdout",
     "output_type": "stream",
     "text": [
      "Train Accuracy:  0.642\n",
      "Test Accuracy:  0.4885\n"
     ]
    }
   ],
   "source": [
    "#Choosing our features\n",
    "X = df[['Delay_from_due_date', 'Outstanding_Debt', 'Monthly_Inhand_Salary']]\n",
    "Y = df['Credit_Mix']\n",
    "\n",
    "#Utilizing train_test_split to create a KNeighbors Classifier model and then fitting it to our data\n",
    "x_train, x_test, y_train, y_test = train_test_split(X, Y, test_size=0.4, random_state=42)\n",
    "model = KNeighborsClassifier()\n",
    "model.fit(x_train, y_train)\n",
    "knn_pred_train = model.predict(x_train)\n",
    "knn_pred_test = model.predict(x_test)\n",
    "\n",
    "#Computing the training and testing score of our model\n",
    "print(\"Train Accuracy: \", accuracy_score(y_train, knn_pred_train))\n",
    "print(\"Test Accuracy: \", accuracy_score(y_test, knn_pred_test))"
   ]
  },
  {
   "cell_type": "markdown",
   "id": "c06368c7",
   "metadata": {},
   "source": [
    "Analysis: \n",
    "\n",
    "Here we used a KNeighbors Classifier model in order to predict our target feature, the credit score. For this model we used the features outstanding debt, monthly in hand salary, and delay from due date. These features allow us to see general aspects of each user, ranging from the current cash that they have on hand which is important for paying off their credit card balance, but also aspects of their ability to pay off debt. We believe that by using these features, it would allow us to create a model that can accurately predict an individual's credit score. After running this model with a hyperparameter of 5 neighbors, we got a training score of 0.642 and a testing score of .48 which is not that high. This tells us that our current model does not perform the best and it is possible that by fine tuning the hyperparameter, the overall score may increase.  "
   ]
  },
  {
   "cell_type": "markdown",
   "id": "203b3ceb",
   "metadata": {},
   "source": [
    "Linear Regression Model"
   ]
  },
  {
   "cell_type": "code",
   "execution_count": 321,
   "id": "714bc478",
   "metadata": {},
   "outputs": [
    {
     "name": "stdout",
     "output_type": "stream",
     "text": [
      "sklearn's score for price: 0.49791442389517504\n"
     ]
    }
   ],
   "source": [
    "#Gathering our features to train off of\n",
    "X = df[['Delay_from_due_date', 'Outstanding_Debt','Monthly_Inhand_Salary']]\n",
    "Y = df['Credits']\n",
    "\n",
    "#Creating a Linear Regression model which we then fit with our data\n",
    "x_train, x_test, y_train, y_test = train_test_split(X, Y, test_size=0.4, random_state=42)\n",
    "model = LinearRegression()\n",
    "model.fit(x_train, y_train)\n",
    "print(\"sklearn's score for price:\", model.score(x_train, y_train))\n"
   ]
  },
  {
   "cell_type": "markdown",
   "id": "0fd21386",
   "metadata": {},
   "source": [
    "Analysis: \n",
    "\n",
    "\n",
    "From the linear regression model, we try to predict Credit (which range from -1 to 1 depending on Good/Standard/Bad) using the three features. We see that the sklearn score for our prediction is actually lower than our KNN classifcation model, and this makes sense because the features does not necessarily provides a linear correlation with the different standings of credit scores. "
   ]
  },
  {
   "cell_type": "markdown",
   "id": "43edd318",
   "metadata": {},
   "source": [
    "Logistic Model"
   ]
  },
  {
   "cell_type": "code",
   "execution_count": 322,
   "id": "ec53eab9",
   "metadata": {},
   "outputs": [
    {
     "name": "stdout",
     "output_type": "stream",
     "text": [
      "Test Accuracy:  0.674\n",
      "Training Accuracy:  0.6856666666666666\n"
     ]
    },
    {
     "name": "stderr",
     "output_type": "stream",
     "text": [
      "/opt/anaconda3/lib/python3.9/site-packages/sklearn/linear_model/_logistic.py:814: ConvergenceWarning: lbfgs failed to converge (status=1):\n",
      "STOP: TOTAL NO. of ITERATIONS REACHED LIMIT.\n",
      "\n",
      "Increase the number of iterations (max_iter) or scale the data as shown in:\n",
      "    https://scikit-learn.org/stable/modules/preprocessing.html\n",
      "Please also refer to the documentation for alternative solver options:\n",
      "    https://scikit-learn.org/stable/modules/linear_model.html#logistic-regression\n",
      "  n_iter_i = _check_optimize_result(\n"
     ]
    }
   ],
   "source": [
    "#Choosing Features\n",
    "X = df[['Delay_from_due_date', 'Outstanding_Debt', 'Monthly_Inhand_Salary']]\n",
    "Y = df['Credits']\n",
    "\n",
    "#Creating adn fitting model\n",
    "x_train, x_test, y_train, y_test = train_test_split(X, Y, test_size=0.4, random_state=42)\n",
    "log = LogisticRegression()\n",
    "log.fit(x_train, y_train)\n",
    "test_pred = log.predict(x_test)\n",
    "train_pred = log.predict(x_train)\n",
    "\n",
    "#Printing out training and testing score\n",
    "print(\"Test Accuracy: \", accuracy_score(y_test, test_pred))\n",
    "print(\"Training Accuracy: \", accuracy_score(y_train, train_pred))\n"
   ]
  },
  {
   "cell_type": "markdown",
   "id": "5415c0f8",
   "metadata": {},
   "source": [
    "Analysis: \n",
    "\n",
    "For the logistic regression model, we tried the same thing to predict Credit (which range from -1 to 1 depending on Good/Standard/Bad) using the same three features. However, we that the testing accuracy for logistic model is higher than linear regression model. This makes sense to us since looking at bad credit standing vs good credit standing, we know that there are extreme high difference between the two, such example include individual with bad credit score has significantly higher number of late payments and outstanding debt than individuals with good credit standing."
   ]
  },
  {
   "cell_type": "code",
   "execution_count": 323,
   "id": "290e1839",
   "metadata": {},
   "outputs": [
    {
     "name": "stdout",
     "output_type": "stream",
     "text": [
      "Training Accuracy: 0.6136666666666667\n",
      "Testing Accuracy: 0.5965\n"
     ]
    }
   ],
   "source": [
    "#Choosing our features for the decision tree model\n",
    "features = pd.DataFrame()\n",
    "features[\"1\"] = df[[\"Delay_from_due_date\"]]\n",
    "features[\"2\"] = df[['Outstanding_Debt']]\n",
    "features[\"3\"] = df[['Monthly_Inhand_Salary']]\n",
    "X = features\n",
    "Y = df[\"Credit_Mix\"]\n",
    "\n",
    "#Creating and fitting the model\n",
    "model = DecisionTreeClassifier(max_depth = 5)\n",
    "\n",
    "X_train, X_test, Y_train, Y_test = train_test_split(X, Y, test_size = 0.40, random_state = 42)\n",
    "\n",
    "model.fit(X_train, Y_train)\n",
    "\n",
    "predictions_train = model.predict(X_train)\n",
    "predictions_test = model.predict(X_test)\n",
    "\n",
    "##Printing out testing score\n",
    "print(\"Training Accuracy:\", accuracy_score(Y_train, predictions_train))\n",
    "print(\"Testing Accuracy:\", accuracy_score(Y_test, predictions_test))\n",
    "\n"
   ]
  },
  {
   "cell_type": "code",
   "execution_count": 324,
   "id": "04397935",
   "metadata": {},
   "outputs": [],
   "source": [
    "#Creating variables to keep track of best performance\n",
    "training_accuracies = []\n",
    "testing_accuracies = []\n",
    "depths = []\n",
    "best_score = 0\n",
    "best_depth = 1\n",
    "#Loop through a range of 0-50 in order to compute the best depth for our decision tree model\n",
    "for x in range(1, 50):\n",
    "    depths.append(x)\n",
    "    model = DecisionTreeClassifier(max_depth = x)\n",
    "    X_train, X_test, Y_train, Y_test = train_test_split(X, Y, test_size = 0.40, random_state = 42)\n",
    "    model.fit(X_train, Y_train)\n",
    "    predictions_train = model.predict(X_train)\n",
    "    predictions_test = model.predict(X_test)\n",
    "    training_accuracies.append(accuracy_score(Y_train, predictions_train))\n",
    "    testing_accuracies.append(accuracy_score(Y_test, predictions_test))\n",
    "\n",
    "    if accuracy_score(Y_test, predictions_test) > best_score:\n",
    "        best_depth = x\n",
    "        best_score = accuracy_score(Y_test, predictions_test)\n",
    "\n",
    "\n"
   ]
  },
  {
   "cell_type": "code",
   "execution_count": 316,
   "id": "3531cfaf",
   "metadata": {},
   "outputs": [
    {
     "data": {
      "image/png": "[encoded data removed]",
      "text/plain": [
       "<Figure size 1080x360 with 2 Axes>"
      ]
     },
     "metadata": {
      "needs_background": "light"
     },
     "output_type": "display_data"
    }
   ],
   "source": [
    "plt.subplots(figsize=(15,5))\n",
    "plt.subplots_adjust(wspace=0.4)\n",
    "plt.subplot(131)\n",
    "plt.plot(depths, training_accuracies)\n",
    "plt.title('Max Depth vs Training Score')\n",
    "plt.xlabel('Model Complexity')\n",
    "plt.ylabel('Training Score')\n",
    "plt.subplot(132)\n",
    "plt.plot(depths, testing_accuracies)\n",
    "plt.title(\"Max Depth vs Testing Accuracies\")\n",
    "plt.xlabel('Model Complexity')\n",
    "plt.ylabel('Testing Score')\n",
    "plt.show()\n"
   ]
  },
  {
   "cell_type": "code",
   "execution_count": 317,
   "id": "d40e4c53",
   "metadata": {},
   "outputs": [
    {
     "name": "stdout",
     "output_type": "stream",
     "text": [
      "Best depth is 4\n",
      "Best depth accuracy score is 0.5975\n"
     ]
    }
   ],
   "source": [
    "print(\"Best depth is\", best_depth)\n",
    "print(\"Best depth accuracy score is\", best_score)"
   ]
  },
  {
   "cell_type": "markdown",
   "id": "ec910fb8",
   "metadata": {},
   "source": [
    "Analyis:\n",
    "\n",
    "Here we used the Decision Tree Classifier in which we used three features, Delay from due date, Outstanding Debt, and Monthly Inhand Salary. We believe that these features are a representative metric of each individual and can allow us to have high model performance. After running our code with a tree depth of 5, we believed that our score function could be enhanced if we fine tuned the tree depth. To do this, we looped through various depths and then found which depth provided the best training score. We found this depth to be 7 and it tells us that a tree depth of 7 allows for the best testing accuracy without our model becoming too susceptible to overfitting. \n"
   ]
  },
  {
   "cell_type": "markdown",
   "id": "785fc545",
   "metadata": {},
   "source": [
    "# Conclusion:\n",
    "\n",
    "From our matrix graph, we see that Credits have the greatest correlation with these three features: delay from due dates, monthly inhand salary, and outstanding debts. We were able to test this hypothesis obtained from the matrix graph by using KNN model to classify individual's credit standings. We were able to obtain a test accuracy of .49. We continued to test this hypothesis and tried to fine tune and improve the accuracy of our model through a decision tree classifer to optimize our best max depth. And we were able to improve our accuracy score to .60. \n",
    "\n",
    "The results showed us that individual finance behaviors such as number of days late from due dates, debts, and income, although not super decisive, all plays a decent role that contributes to their credit score.\n",
    "\n",
    "In future projects, we would love to conduct research on more feautres and test their correlation to individuals's credit scores. However, it would also be interesting if we can come up with a reverse model and acutal credit scores (from 300-850), where we actually use an individual's credit score to predict their finanical behaviors such as their payment behavior, investments, and debts etc. One limiting factor in our model was that is was predicting a variable which only had three categories, but in the future we would love to create more models that could predict real FICO credit scores."
   ]
  },
  {
   "cell_type": "markdown",
   "id": "f9cee5ca",
   "metadata": {},
   "source": []
  }
 ],
 "metadata": {
  "kernelspec": {
   "display_name": "Python 3.9.12 64-bit ('anaconda3')",
   "language": "python",
   "name": "python3"
  },
  "language_info": {
   "codemirror_mode": {
    "name": "ipython",
    "version": 3
   },
   "file_extension": ".py",
   "mimetype": "text/x-python",
   "name": "python",
   "nbconvert_exporter": "python",
   "pygments_lexer": "ipython3",
   "version": "3.9.12"
  },
  "toc": {
   "base_numbering": 1,
   "nav_menu": {},
   "number_sections": true,
   "sideBar": true,
   "skip_h1_title": false,
   "title_cell": "Table of Contents",
   "title_sidebar": "Contents",
   "toc_cell": false,
   "toc_position": {},
   "toc_section_display": true,
   "toc_window_display": false
  },
  "varInspector": {
   "cols": {
    "lenName": 16,
    "lenType": 16,
    "lenVar": 40
   },
   "kernels_config": {
    "python": {
     "delete_cmd_postfix": "",
     "delete_cmd_prefix": "del ",
     "library": "var_list.py",
     "varRefreshCmd": "print(var_dic_list())"
    },
    "r": {
     "delete_cmd_postfix": ") ",
     "delete_cmd_prefix": "rm(",
     "library": "var_list.r",
     "varRefreshCmd": "cat(var_dic_list()) "
    }
   },
   "types_to_exclude": [
    "module",
    "function",
    "builtin_function_or_method",
    "instance",
    "_Feature"
   ],
   "window_display": false
  },
  "vscode": {
   "interpreter": {
    "hash": "40d3a090f54c6569ab1632332b64b2c03c39dcf918b08424e98f38b5ae0af88f"
   }
  }
 },
 "nbformat": 4,
 "nbformat_minor": 5
}
